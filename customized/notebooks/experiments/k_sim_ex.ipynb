{
 "cells": [
  {
   "cell_type": "code",
   "execution_count": 1,
   "metadata": {
    "collapsed": true,
    "pycharm": {
     "is_executing": false
    }
   },
   "outputs": [],
   "source": [
    "from customized.main.DatasetManager import DatasetManager\n",
    "from customized.main.Evaluator import Evaluator\n",
    "from customized.main.models.ClusteredUserBasedCF import ClusteredUserBasedCF\n",
    "from customized.main.models.ItemBasedCF import ItemBasedCF\n",
    "from customized.main.models.UserBasedCF import UserBasedCF\n",
    "from customized.main.utils.plot_generators import gen_plots_with_errbars, measure_time, gen_grouped_histogram_bars\n",
    "import numpy as np"
   ]
  },
  {
   "cell_type": "code",
   "execution_count": 2,
   "outputs": [],
   "source": [
    "dirname = '/home/damian/Pulpit/Warsztat/CoML/recomm_project/data/'\n",
    "dm = DatasetManager()\n",
    "\n",
    "# ml100k_filename = dirname + 'ml-100k/u.data'\n",
    "# data = dm.load_csv(ml100k_filename, realative=False)\n",
    "# train, test = dm.train_test_split(data, shuffle=False)\n",
    "# \n",
    "# user_item = dm.transform_to_user_item_mat(train, verbose=True)\n",
    "# user_item_test = dm.transform_to_user_item_mat(test, verbose=True)"
   ],
   "metadata": {
    "collapsed": false,
    "pycharm": {
     "name": "#%%\n",
     "is_executing": false
    }
   }
  },
  {
   "cell_type": "code",
   "execution_count": 3,
   "outputs": [
    {
     "name": "stdout",
     "text": [
      "User number: 943, item number: 1682\n",
      "User number: 943, item number: 1664\n"
     ],
     "output_type": "stream"
    }
   ],
   "source": [
    "ml100k_filename = dirname + 'ml-100k/ua.base'\n",
    "ml100k_filename_test = dirname + 'ml-100k/ua.test'\n",
    "\n",
    "train = dm.load_csv(ml100k_filename, realative=False)\n",
    "test = dm.load_csv(ml100k_filename_test, realative=False)\n",
    "\n",
    "user_item = DatasetManager.transform_to_user_item_mat(train, verbose=True)\n",
    "user_item_test = DatasetManager.transform_to_user_item_mat(test, verbose=True)\n",
    "    "
   ],
   "metadata": {
    "collapsed": false,
    "pycharm": {
     "name": "#%%\n",
     "is_executing": false
    }
   }
  },
  {
   "cell_type": "code",
   "execution_count": 4,
   "outputs": [],
   "source": [
    "# eval metrics across different k neighbours\n",
    "\n",
    "plots = [\n",
    "    {'key': 'time', 'name': 'Prediction time x k-similar neighbours', 'xlabel': 'k', 'ylabel': 't [s]'},\n",
    "    {'key': 'prec', 'name': 'Precision x k-similar neighbours', 'xlabel': 'k', 'ylabel': 'prec'},\n",
    "    {'key': 'recall', 'name': 'Recall x k-similar neighbours', 'xlabel': 'k', 'ylabel': 'recall'},\n",
    "    {'key': 'f1', 'name': 'F1 score x k-similar neighbours', 'xlabel': 'k', 'ylabel': 'f1'},\n",
    "    {'key': 'rmse', 'name': 'RMSE x k-similar neighbours', 'xlabel': 'k', 'ylabel': 'rmse'},\n",
    "    {'key': 'mae', 'name': 'MAE x k-similar neighbours', 'xlabel': 'k', 'ylabel': 'mae'}\n",
    "]\n",
    "\n",
    "models = [\n",
    "    { 'model': UserBasedCF, 'name': 'UserBasedCF'},\n",
    "    { 'model': ItemBasedCF, 'name': 'ItemBasedCF'},\n",
    "    { 'model': ClusteredUserBasedCF, 'name': 'ClustUsrBasedCF'}\n",
    "]\n",
    "\n",
    "k_range = np.arange(1, 30)\n",
    "repeat = 3\n",
    "\n",
    "def func(sink, model_desc, k):\n",
    "    model_class = model_desc['model']\n",
    "    model = model_class(k_similar=k, verbose=True)\n",
    "    \n",
    "    # fit model \n",
    "    model.fit(user_item)\n",
    "    \n",
    "    # predict\n",
    "    pred = measure_time(lambda: model.predict_all(), sink['time'])\n",
    "    \n",
    "    # recommend\n",
    "    recomm, _ = model._recommend_all(pred)\n",
    "    recomm = model._transform_recomm(recomm)\n",
    "\n",
    "    # eval\n",
    "    eval = Evaluator(user_item_test).eval(recomm, pred)\n",
    "    \n",
    "    sink['prec'].append(eval['prec'])\n",
    "    sink['recall'].append(eval['recall'])\n",
    "    sink['f1'].append(eval['f1'])\n",
    "    sink['rmse'].append(eval['rmse'])\n",
    "    sink['mae'].append(eval['mae'])"
   ],
   "metadata": {
    "collapsed": false,
    "pycharm": {
     "name": "#%%\n",
     "is_executing": false
    }
   }
  },
  {
   "cell_type": "code",
   "execution_count": null,
   "outputs": [],
   "source": [
    "gen_plots_with_errbars(plots, models, k_range, func, repeat, verbose=True)\n",
    "\n",
    "\n",
    "\n",
    "\n",
    "\n"
   ],
   "metadata": {
    "collapsed": false,
    "pycharm": {
     "name": "#%% \n"
    }
   }
  }
 ],
 "metadata": {
  "kernelspec": {
   "name": "pycharm-c033b6b1",
   "language": "python",
   "display_name": "PyCharm (ex2_b)"
  },
  "language_info": {
   "codemirror_mode": {
    "name": "ipython",
    "version": 2
   },
   "file_extension": ".py",
   "mimetype": "text/x-python",
   "name": "python",
   "nbconvert_exporter": "python",
   "pygments_lexer": "ipython2",
   "version": "2.7.6"
  },
  "pycharm": {
   "stem_cell": {
    "cell_type": "raw",
    "source": [],
    "metadata": {
     "collapsed": false
    }
   }
  }
 },
 "nbformat": 4,
 "nbformat_minor": 0
}