{
 "cells": [
  {
   "cell_type": "code",
   "execution_count": 1,
   "metadata": {
    "collapsed": true,
    "pycharm": {
     "is_executing": false
    }
   },
   "outputs": [],
   "source": [
    "import numpy as np\n",
    "\n",
    "from customized.main.DatasetManager import DatasetManager\n",
    "from customized.main.Evaluator import Evaluator\n",
    "from customized.main.models.ClusteredUserBasedCF import ClusteredUserBasedCF"
   ]
  },
  {
   "cell_type": "code",
   "execution_count": 2,
   "outputs": [],
   "source": [
    "from customized.main.utils.plot_generators import measure_time, gen_plots_with_errbars\n",
    "dirname = '/home/damian/Pulpit/Warsztat/CoML/recomm_project/data/'\n",
    "dm = DatasetManager()"
   ],
   "metadata": {
    "collapsed": false,
    "pycharm": {
     "name": "#%%\n",
     "is_executing": false
    }
   }
  },
  {
   "cell_type": "code",
   "execution_count": 3,
   "outputs": [
    {
     "name": "stdout",
     "text": [
      "User number: 943, item number: 1682\n",
      "User number: 943, item number: 1664\n"
     ],
     "output_type": "stream"
    }
   ],
   "source": [
    "ml100k_filename = dirname + 'ml-100k/ua.base'\n",
    "ml100k_filename_test = dirname + 'ml-100k/ua.test'\n",
    "\n",
    "train = dm.load_csv(ml100k_filename, realative=False)\n",
    "test = dm.load_csv(ml100k_filename_test, realative=False)\n",
    "\n",
    "user_item = DatasetManager.transform_to_user_item_mat(train, verbose=True)\n",
    "user_item_test = DatasetManager.transform_to_user_item_mat(test, verbose=True)"
   ],
   "metadata": {
    "collapsed": false,
    "pycharm": {
     "name": "#%%\n",
     "is_executing": false
    }
   }
  },
  {
   "cell_type": "code",
   "execution_count": 4,
   "outputs": [],
   "source": [
    "# eval models across different cluster number\n",
    "\n",
    "models = [\n",
    "    { 'model': ClusteredUserBasedCF, 'name': 'ClustUsrBasedCF'}\n",
    "]\n",
    "\n",
    "n_range = np.arange(1, 11)\n",
    "repeat = 3\n",
    "\n",
    "plots = [\n",
    "    {'key': 'fit', 'name': 'Fitting time x n-clusters', 'xlabel': 'n', 'ylabel': 't [s]'},\n",
    "    {'key': 'pred', 'name': 'Prediction time x n-clusters', 'xlabel': 'n', 'ylabel': 't [s]'},\n",
    "    {'key': 'prec', 'name': 'Precision x n-clusters', 'xlabel': 'n', 'ylabel': 'prec'},\n",
    "    {'key': 'rmse', 'name': 'RMSE x n-clusters', 'xlabel': 'n', 'ylabel': 'rmse'}\n",
    "]\n",
    "\n",
    "def func_clust(sink, model_desc, n):\n",
    "    model_class = model_desc['model']\n",
    "    model = model_class(n_clusters=n, verbose=True)\n",
    "    \n",
    "    measure_time(lambda: model.fit(user_item), sink['fit'])\n",
    "    pred = measure_time(lambda: model.predict_all(), sink['pred'])\n",
    "    \n",
    "    recomm, _ = model._recommend_all(pred)\n",
    "    recomm = model._transform_recomm(recomm)\n",
    "    \n",
    "    eval = Evaluator(user_item_test).eval(recomm, pred)\n",
    "    \n",
    "    sink['prec'].append(eval['prec'])\n",
    "    sink['rmse'].append(eval['rmse'])\n",
    "    \n",
    "    \n",
    "    "
   ],
   "metadata": {
    "collapsed": false,
    "pycharm": {
     "name": "#%%\n",
     "is_executing": false
    }
   }
  },
  {
   "cell_type": "code",
   "execution_count": 5,
   "outputs": [
    {
     "name": "stdout",
     "text": [
      "(0) started calculation for ClustUsrBasedCF case\n",
      "[ClusteredUserBasedCF._clusterize] total 0.18 seconds have spent\n",
      "\n",
      "[ClusteredUserBasedCF._calc_sim] total 6.23 seconds have spent\n",
      "\n",
      "[ClusteredUserBasedCF.fit] total 6.42 seconds have spent\n",
      "\n",
      "[ClusteredUserBasedCF.predict_all] total 27.42 seconds have spent\n",
      "\n",
      "[ClusteredUserBasedCF._clusterize] total 0.17 seconds have spent\n",
      "\n",
      "[ClusteredUserBasedCF._calc_sim] total 6.06 seconds have spent\n",
      "\n",
      "[ClusteredUserBasedCF.fit] total 6.24 seconds have spent\n",
      "\n",
      "[ClusteredUserBasedCF.predict_all] total 25.68 seconds have spent\n",
      "\n",
      "[ClusteredUserBasedCF._clusterize] total 0.17 seconds have spent\n",
      "\n",
      "[ClusteredUserBasedCF._calc_sim] total 6.23 seconds have spent\n",
      "\n",
      "[ClusteredUserBasedCF.fit] total 6.40 seconds have spent\n",
      "\n",
      "[ClusteredUserBasedCF.predict_all] total 25.87 seconds have spent\n",
      "\n",
      ">>> results for value 1: \n",
      "  >>> fit - y: 6.350911060969035, err: 0.0823055726218203\n",
      "  >>> pred - y: 26.32307704289754, err: 0.7807762215498069\n",
      "  >>> prec - y: 0.22492046659597031, err: 0.0\n",
      "  >>> rmse - y: 2.605186005754215, err: 0.0\n",
      "[ClusteredUserBasedCF._clusterize] total 0.78 seconds have spent\n",
      "\n",
      "[ClusteredUserBasedCF._calc_sim] total 3.49 seconds have spent\n",
      "\n",
      "[ClusteredUserBasedCF.fit] total 4.26 seconds have spent\n",
      "\n",
      "[ClusteredUserBasedCF.predict_all] total 25.55 seconds have spent\n",
      "\n",
      "[ClusteredUserBasedCF._clusterize] total 0.63 seconds have spent\n",
      "\n",
      "[ClusteredUserBasedCF._calc_sim] total 3.51 seconds have spent\n",
      "\n",
      "[ClusteredUserBasedCF.fit] total 4.15 seconds have spent\n",
      "\n",
      "[ClusteredUserBasedCF.predict_all] total 25.69 seconds have spent\n",
      "\n",
      "[ClusteredUserBasedCF._clusterize] total 0.65 seconds have spent\n",
      "\n",
      "[ClusteredUserBasedCF._calc_sim] total 3.47 seconds have spent\n",
      "\n",
      "[ClusteredUserBasedCF.fit] total 4.11 seconds have spent\n",
      "\n",
      "[ClusteredUserBasedCF.predict_all] total 25.67 seconds have spent\n",
      "\n",
      ">>> results for value 2: \n",
      "  >>> fit - y: 4.176272710164388, err: 0.06321633716798748\n",
      "  >>> pred - y: 25.636622111002605, err: 0.06056857776554883\n",
      "  >>> prec - y: 0.22216330858960764, err: 0.0\n",
      "  >>> rmse - y: 2.673531555604169, err: 4.440892098500626e-16\n",
      "[ClusteredUserBasedCF._clusterize] total 0.92 seconds have spent\n",
      "\n",
      "[ClusteredUserBasedCF._calc_sim] total 2.77 seconds have spent\n",
      "\n",
      "[ClusteredUserBasedCF.fit] total 3.69 seconds have spent\n",
      "\n",
      "[ClusteredUserBasedCF.predict_all] total 25.12 seconds have spent\n",
      "\n",
      "[ClusteredUserBasedCF._clusterize] total 0.97 seconds have spent\n",
      "\n",
      "[ClusteredUserBasedCF._calc_sim] total 2.62 seconds have spent\n",
      "\n",
      "[ClusteredUserBasedCF.fit] total 3.59 seconds have spent\n",
      "\n",
      "[ClusteredUserBasedCF.predict_all] total 24.73 seconds have spent\n",
      "\n",
      "[ClusteredUserBasedCF._clusterize] total 1.16 seconds have spent\n",
      "\n",
      "[ClusteredUserBasedCF._calc_sim] total 2.73 seconds have spent\n",
      "\n",
      "[ClusteredUserBasedCF.fit] total 3.89 seconds have spent\n",
      "\n",
      "[ClusteredUserBasedCF.predict_all] total 24.74 seconds have spent\n",
      "\n",
      ">>> results for value 3: \n",
      "  >>> fit - y: 3.7208038171132407, err: 0.12316212964168637\n",
      "  >>> pred - y: 24.865717967351276, err: 0.18096671168653974\n",
      "  >>> prec - y: 0.22082007776599508, err: 0.0005765113619759646\n",
      "  >>> rmse - y: 2.7032377243253607, err: 0.002152033986328055\n",
      "[ClusteredUserBasedCF._clusterize] total 1.16 seconds have spent\n",
      "\n",
      "[ClusteredUserBasedCF._calc_sim] total 2.47 seconds have spent\n",
      "\n",
      "[ClusteredUserBasedCF.fit] total 3.63 seconds have spent\n",
      "\n",
      "[ClusteredUserBasedCF.predict_all] total 25.25 seconds have spent\n",
      "\n",
      "[ClusteredUserBasedCF._clusterize] total 1.16 seconds have spent\n",
      "\n",
      "[ClusteredUserBasedCF._calc_sim] total 2.46 seconds have spent\n",
      "\n",
      "[ClusteredUserBasedCF.fit] total 3.62 seconds have spent\n",
      "\n",
      "[ClusteredUserBasedCF.predict_all] total 25.13 seconds have spent\n",
      "\n",
      "[ClusteredUserBasedCF._clusterize] total 1.26 seconds have spent\n",
      "\n",
      "[ClusteredUserBasedCF._calc_sim] total 2.54 seconds have spent\n",
      "\n",
      "[ClusteredUserBasedCF.fit] total 3.80 seconds have spent\n",
      "\n",
      "[ClusteredUserBasedCF.predict_all] total 25.95 seconds have spent\n",
      "\n",
      ">>> results for value 4: \n",
      "  >>> fit - y: 3.68384051322937, err: 0.08075769204470742\n",
      "  >>> pred - y: 25.443420092264812, err: 0.35980306897732983\n",
      "  >>> prec - y: 0.21933545422410747, err: 0.0005893719335642655\n",
      "  >>> rmse - y: 2.7038766227910833, err: 0.0021214363292254702\n",
      "[ClusteredUserBasedCF._clusterize] total 1.35 seconds have spent\n",
      "\n",
      "[ClusteredUserBasedCF._calc_sim] total 2.36 seconds have spent\n",
      "\n",
      "[ClusteredUserBasedCF.fit] total 3.71 seconds have spent\n",
      "\n",
      "[ClusteredUserBasedCF.predict_all] total 25.83 seconds have spent\n",
      "\n",
      "[ClusteredUserBasedCF._clusterize] total 1.34 seconds have spent\n",
      "\n",
      "[ClusteredUserBasedCF._calc_sim] total 2.02 seconds have spent\n",
      "\n",
      "[ClusteredUserBasedCF.fit] total 3.36 seconds have spent\n",
      "\n",
      "[ClusteredUserBasedCF.predict_all] total 25.17 seconds have spent\n",
      "\n",
      "[ClusteredUserBasedCF._clusterize] total 1.38 seconds have spent\n",
      "\n",
      "[ClusteredUserBasedCF._calc_sim] total 2.22 seconds have spent\n",
      "\n",
      "[ClusteredUserBasedCF.fit] total 3.61 seconds have spent\n",
      "\n",
      "[ClusteredUserBasedCF.predict_all] total 25.25 seconds have spent\n",
      "\n",
      ">>> results for value 5: \n",
      "  >>> fit - y: 3.5606711705525718, err: 0.14896500416151348\n",
      "  >>> pred - y: 25.41827193895976, err: 0.296723741453637\n",
      "  >>> prec - y: 0.21848709791445742, err: 0.001802410573910499\n",
      "  >>> rmse - y: 2.7382770366737863, err: 0.0008144101792831608\n",
      "[ClusteredUserBasedCF._clusterize] total 1.90 seconds have spent\n",
      "\n",
      "[ClusteredUserBasedCF._calc_sim] total 1.94 seconds have spent\n",
      "\n",
      "[ClusteredUserBasedCF.fit] total 3.84 seconds have spent\n",
      "\n",
      "[ClusteredUserBasedCF.predict_all] total 25.66 seconds have spent\n",
      "\n",
      "[ClusteredUserBasedCF._clusterize] total 1.42 seconds have spent\n",
      "\n",
      "[ClusteredUserBasedCF._calc_sim] total 1.84 seconds have spent\n",
      "\n",
      "[ClusteredUserBasedCF.fit] total 3.26 seconds have spent\n",
      "\n",
      "[ClusteredUserBasedCF.predict_all] total 26.10 seconds have spent\n",
      "\n",
      "[ClusteredUserBasedCF._clusterize] total 1.36 seconds have spent\n",
      "\n",
      "[ClusteredUserBasedCF._calc_sim] total 2.01 seconds have spent\n",
      "\n",
      "[ClusteredUserBasedCF.fit] total 3.37 seconds have spent\n",
      "\n",
      "[ClusteredUserBasedCF.predict_all] total 24.95 seconds have spent\n",
      "\n",
      ">>> results for value 6: \n",
      "  >>> fit - y: 3.490572690963745, err: 0.25086280007958084\n",
      "  >>> pred - y: 25.570472319920857, err: 0.4741541804687793\n",
      "  >>> prec - y: 0.2157652880876635, err: 0.002085842133889278\n",
      "  >>> rmse - y: 2.7438967106941714, err: 0.0020470283296438914\n",
      "[ClusteredUserBasedCF._clusterize] total 1.50 seconds have spent\n",
      "\n",
      "[ClusteredUserBasedCF._calc_sim] total 1.76 seconds have spent\n",
      "\n",
      "[ClusteredUserBasedCF.fit] total 3.26 seconds have spent\n",
      "\n",
      "[ClusteredUserBasedCF.predict_all] total 25.23 seconds have spent\n",
      "\n",
      "[ClusteredUserBasedCF._clusterize] total 1.34 seconds have spent\n",
      "\n",
      "[ClusteredUserBasedCF._calc_sim] total 1.79 seconds have spent\n",
      "\n",
      "[ClusteredUserBasedCF.fit] total 3.12 seconds have spent\n",
      "\n",
      "[ClusteredUserBasedCF.predict_all] total 24.87 seconds have spent\n",
      "\n",
      "[ClusteredUserBasedCF._clusterize] total 1.54 seconds have spent\n",
      "\n",
      "[ClusteredUserBasedCF._calc_sim] total 1.63 seconds have spent\n",
      "\n",
      "[ClusteredUserBasedCF.fit] total 3.17 seconds have spent\n",
      "\n",
      "[ClusteredUserBasedCF.predict_all] total 24.77 seconds have spent\n",
      "\n",
      ">>> results for value 7: \n",
      "  >>> fit - y: 3.183262268702189, err: 0.05520532495895502\n",
      "  >>> pred - y: 24.957696358362835, err: 0.1939031437843575\n",
      "  >>> prec - y: 0.2145634499823259, err: 0.0018657678643190776\n",
      "  >>> rmse - y: 2.748983765663745, err: 0.002363460049290304\n",
      "[ClusteredUserBasedCF._clusterize] total 1.65 seconds have spent\n",
      "\n",
      "[ClusteredUserBasedCF._calc_sim] total 1.66 seconds have spent\n",
      "\n",
      "[ClusteredUserBasedCF.fit] total 3.31 seconds have spent\n",
      "\n",
      "[ClusteredUserBasedCF.predict_all] total 25.01 seconds have spent\n",
      "\n",
      "[ClusteredUserBasedCF._clusterize] total 1.44 seconds have spent\n",
      "\n",
      "[ClusteredUserBasedCF._calc_sim] total 1.61 seconds have spent\n",
      "\n",
      "[ClusteredUserBasedCF.fit] total 3.06 seconds have spent\n",
      "\n",
      "[ClusteredUserBasedCF.predict_all] total 25.28 seconds have spent\n",
      "\n",
      "[ClusteredUserBasedCF._clusterize] total 1.47 seconds have spent\n",
      "\n",
      "[ClusteredUserBasedCF._calc_sim] total 1.53 seconds have spent\n",
      "\n",
      "[ClusteredUserBasedCF.fit] total 3.00 seconds have spent\n",
      "\n",
      "[ClusteredUserBasedCF.predict_all] total 25.24 seconds have spent\n",
      "\n",
      ">>> results for value 8: \n",
      "  >>> fit - y: 3.1235663890838623, err: 0.13526584926285662\n",
      "  >>> pred - y: 25.17681058247884, err: 0.11977187515804127\n",
      "  >>> prec - y: 0.2135383527748321, err: 0.0021108516969718834\n",
      "  >>> rmse - y: 2.7504822625962433, err: 0.0007105130477127509\n",
      "[ClusteredUserBasedCF._clusterize] total 1.71 seconds have spent\n",
      "\n",
      "[ClusteredUserBasedCF._calc_sim] total 1.95 seconds have spent\n",
      "\n",
      "[ClusteredUserBasedCF.fit] total 3.66 seconds have spent\n",
      "\n",
      "[ClusteredUserBasedCF.predict_all] total 25.51 seconds have spent\n",
      "\n",
      "[ClusteredUserBasedCF._clusterize] total 1.76 seconds have spent\n",
      "\n",
      "[ClusteredUserBasedCF._calc_sim] total 1.74 seconds have spent\n",
      "\n",
      "[ClusteredUserBasedCF.fit] total 3.49 seconds have spent\n",
      "\n",
      "[ClusteredUserBasedCF.predict_all] total 27.88 seconds have spent\n",
      "\n",
      "[ClusteredUserBasedCF._clusterize] total 1.88 seconds have spent\n",
      "\n",
      "[ClusteredUserBasedCF._calc_sim] total 1.59 seconds have spent\n",
      "\n",
      "[ClusteredUserBasedCF.fit] total 3.47 seconds have spent\n",
      "\n",
      "[ClusteredUserBasedCF.predict_all] total 26.16 seconds have spent\n",
      "\n",
      ">>> results for value 9: \n",
      "  >>> fit - y: 3.5410170555114746, err: 0.08643614650673309\n",
      "  >>> pred - y: 26.517930428187054, err: 0.9957968115531777\n",
      "  >>> prec - y: 0.212548603746907, err: 0.0032285100696445254\n",
      "  >>> rmse - y: 2.7530474525600996, err: 0.00641329815214977\n",
      "[ClusteredUserBasedCF._clusterize] total 1.53 seconds have spent\n",
      "\n",
      "[ClusteredUserBasedCF._calc_sim] total 1.48 seconds have spent\n",
      "\n",
      "[ClusteredUserBasedCF.fit] total 3.01 seconds have spent\n",
      "\n",
      "[ClusteredUserBasedCF.predict_all] total 24.71 seconds have spent\n",
      "\n",
      "[ClusteredUserBasedCF._clusterize] total 1.57 seconds have spent\n",
      "\n",
      "[ClusteredUserBasedCF._calc_sim] total 1.56 seconds have spent\n",
      "\n",
      "[ClusteredUserBasedCF.fit] total 3.13 seconds have spent\n",
      "\n",
      "[ClusteredUserBasedCF.predict_all] total 28.60 seconds have spent\n",
      "\n",
      "[ClusteredUserBasedCF._clusterize] total 1.61 seconds have spent\n",
      "\n",
      "[ClusteredUserBasedCF._calc_sim] total 1.54 seconds have spent\n",
      "\n",
      "[ClusteredUserBasedCF.fit] total 3.15 seconds have spent\n",
      "\n",
      "[ClusteredUserBasedCF.predict_all] total 25.75 seconds have spent\n",
      "\n",
      ">>> results for value 10: \n",
      "  >>> fit - y: 3.094583829243978, err: 0.06240725278140363\n",
      "  >>> pred - y: 26.351997057596844, err: 1.6443935451602245\n",
      "  >>> prec - y: 0.21226581831035704, err: 0.0018817718846526937\n",
      "  >>> rmse - y: 2.7539357241410127, err: 0.003495979221329429\n"
     ],
     "output_type": "stream"
    },
    {
     "data": {
      "text/plain": "<Figure size 432x288 with 1 Axes>",
      "image/png": "[encoded data removed]"
     },
     "metadata": {
      "needs_background": "light"
     },
     "output_type": "display_data"
    },
    {
     "data": {
      "text/plain": "<Figure size 432x288 with 1 Axes>",
      "image/png": "[encoded data removed]"
     },
     "metadata": {
      "needs_background": "light"
     },
     "output_type": "display_data"
    },
    {
     "data": {
      "text/plain": "<Figure size 432x288 with 1 Axes>",
      "image/png": "[encoded data removed]"
     },
     "metadata": {
      "needs_background": "light"
     },
     "output_type": "display_data"
    },
    {
     "data": {
      "text/plain": "<Figure size 432x288 with 1 Axes>",
      "image/png": "[encoded data removed]"
     },
     "metadata": {
      "needs_background": "light"
     },
     "output_type": "display_data"
    }
   ],
   "source": [
    "gen_plots_with_errbars(plots, models, n_range, func_clust, repeat, verbose=True)"
   ],
   "metadata": {
    "collapsed": false,
    "pycharm": {
     "name": "#%%\n",
     "is_executing": false
    }
   }
  },
  {
   "cell_type": "code",
   "execution_count": 5,
   "outputs": [],
   "source": [
    "\n"
   ],
   "metadata": {
    "collapsed": false,
    "pycharm": {
     "name": "#%%\n",
     "is_executing": false
    }
   }
  }
 ],
 "metadata": {
  "kernelspec": {
   "name": "pycharm-c033b6b1",
   "language": "python",
   "display_name": "PyCharm (ex2_b)"
  },
  "language_info": {
   "codemirror_mode": {
    "name": "ipython",
    "version": 2
   },
   "file_extension": ".py",
   "mimetype": "text/x-python",
   "name": "python",
   "nbconvert_exporter": "python",
   "pygments_lexer": "ipython2",
   "version": "2.7.6"
  },
  "pycharm": {
   "stem_cell": {
    "cell_type": "raw",
    "source": [],
    "metadata": {
     "collapsed": false
    }
   }
  }
 },
 "nbformat": 4,
 "nbformat_minor": 0
}