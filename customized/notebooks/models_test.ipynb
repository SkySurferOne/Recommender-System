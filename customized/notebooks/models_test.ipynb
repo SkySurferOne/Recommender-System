{
 "cells": [
  {
   "cell_type": "code",
   "execution_count": 1,
   "metadata": {
    "collapsed": true,
    "pycharm": {
     "is_executing": false
    }
   },
   "outputs": [],
   "source": [
    "from customized.main.DatasetManager import DatasetManager\n",
    "from customized.main.models.ClusteredItemBasedCF import ClusteredItemBasedCF\n",
    "from customized.main.models.ClusteredUserBasedCF import ClusteredUserBasedCF\n",
    "from customized.main.models.ItemBasedCF import ItemBasedCF\n",
    "from customized.main.models.UserBasedCF import UserBasedCF"
   ]
  },
  {
   "cell_type": "code",
   "execution_count": 2,
   "outputs": [
    {
     "name": "stdout",
     "text": [
      "test size: 9.43 %\n",
      "User number: 943, item number: 1682\n",
      "User number: 943, item number: 1664\n"
     ],
     "output_type": "stream"
    }
   ],
   "source": [
    "dirname = '/home/damian/Pulpit/Warsztat/CoML/recomm_project/data/'\n",
    "ml100k_filename = dirname + 'ml-100k/u.data'\n",
    "\n",
    "dm = DatasetManager()\n",
    "data = dm.load_csv(ml100k_filename, realative=False)\n",
    "train, test = dm.train_test_split(data, shuffle=False)\n",
    "\n",
    "user_item = dm.transform_to_user_item_mat(train, verbose=True)\n",
    "user_item_test = dm.transform_to_user_item_mat(test, verbose=True)\n",
    "    "
   ],
   "metadata": {
    "collapsed": false,
    "pycharm": {
     "name": "#%%\n",
     "is_executing": false
    }
   }
  },
  {
   "cell_type": "code",
   "execution_count": 3,
   "outputs": [
    {
     "name": "stdout",
     "text": [
      "[UserBasedCF.fit] total 5.94 seconds have spent\n",
      "\n"
     ],
     "output_type": "stream"
    }
   ],
   "source": [
    "model = UserBasedCF(verbose=True)\n",
    "model.fit(user_item)"
   ],
   "metadata": {
    "collapsed": false,
    "pycharm": {
     "name": "#%%\n",
     "is_executing": false
    }
   }
  },
  {
   "cell_type": "code",
   "execution_count": 4,
   "outputs": [
    {
     "name": "stdout",
     "text": [
      "[UserBasedCF.predict_all] total 27.09 seconds have spent\n",
      "\n"
     ],
     "output_type": "stream"
    },
    {
     "data": {
      "text/plain": "{'prec': 0.22311770943796394,\n 'recall': 0.22311770943796394,\n 'f1': 0.22311770943796394,\n 'rmse': 2.7590386748049904,\n 'mae': 2.473235757817765}"
     },
     "metadata": {},
     "output_type": "execute_result",
     "execution_count": 4
    }
   ],
   "source": [
    "model.test(user_item_test)"
   ],
   "metadata": {
    "collapsed": false,
    "pycharm": {
     "name": "#%%\n",
     "is_executing": false
    }
   }
  },
  {
   "cell_type": "code",
   "execution_count": 10,
   "outputs": [
    {
     "name": "stdout",
     "text": [
      "[ItemBasedCF.fit] total 22.40 seconds have spent\n",
      "\n"
     ],
     "output_type": "stream"
    }
   ],
   "source": [
    "model = ItemBasedCF(k_similar=9, verbose=True)\n",
    "model.fit(user_item)\n"
   ],
   "metadata": {
    "collapsed": false,
    "pycharm": {
     "name": "#%%\n",
     "is_executing": false
    }
   }
  },
  {
   "cell_type": "code",
   "execution_count": 11,
   "outputs": [
    {
     "name": "stdout",
     "text": [
      "[ItemBasedCF.predict_all] total 6.92 seconds have spent\n",
      "\n"
     ],
     "output_type": "stream"
    },
    {
     "data": {
      "text/plain": "{'prec': 0.19003181336161187,\n 'recall': 0.19003181336161187,\n 'f1': 0.19003181336161187,\n 'rmse': 2.707756337152511,\n 'mae': 2.411571063031292}"
     },
     "metadata": {},
     "output_type": "execute_result",
     "execution_count": 11
    }
   ],
   "source": [
    "model.test(user_item_test)\n"
   ],
   "metadata": {
    "collapsed": false,
    "pycharm": {
     "name": "#%%\n",
     "is_executing": false
    }
   }
  },
  {
   "cell_type": "code",
   "execution_count": 4,
   "outputs": [
    {
     "name": "stdout",
     "text": [
      "[ClusteredUserBasedCF._clusterize] total 1.68 seconds have spent\n",
      "\n",
      "[ClusteredUserBasedCF._calc_sim] total 3.01 seconds have spent\n",
      "\n",
      "[ClusteredUserBasedCF.fit] total 4.69 seconds have spent\n",
      "\n"
     ],
     "output_type": "stream"
    }
   ],
   "source": [
    "model = ClusteredUserBasedCF(verbose=True)\n",
    "model.fit(user_item)\n"
   ],
   "metadata": {
    "collapsed": false,
    "pycharm": {
     "name": "#%%\n",
     "is_executing": false
    }
   }
  },
  {
   "cell_type": "code",
   "execution_count": 5,
   "outputs": [
    {
     "name": "stdout",
     "text": [
      "[ClusteredUserBasedCF.predict_all] total 24.89 seconds have spent\n",
      "\n"
     ],
     "output_type": "stream"
    },
    {
     "data": {
      "text/plain": "{'prec': 0.21993637327677626,\n 'recall': 0.21993637327677626,\n 'f1': 0.21993637327677626,\n 'rmse': 2.7064634907500174,\n 'mae': 2.398219143620749}"
     },
     "metadata": {},
     "output_type": "execute_result",
     "execution_count": 5
    }
   ],
   "source": [
    "model.test(user_item_test)"
   ],
   "metadata": {
    "collapsed": false,
    "pycharm": {
     "name": "#%%\n",
     "is_executing": false
    }
   }
  },
  {
   "cell_type": "code",
   "execution_count": 3,
   "outputs": [
    {
     "name": "stdout",
     "text": [
      "[ClusteredItemBasedCF._clusterize] total 1.27 seconds have spent\n",
      "\n",
      "[ClusteredItemBasedCF._calc_sim] total 13.20 seconds have spent\n",
      "\n",
      "[ClusteredItemBasedCF.fit] total 14.48 seconds have spent\n",
      "\n"
     ],
     "output_type": "stream"
    }
   ],
   "source": [
    "model = ClusteredItemBasedCF(verbose=True)\n",
    "model.fit(user_item)"
   ],
   "metadata": {
    "collapsed": false,
    "pycharm": {
     "name": "#%%\n",
     "is_executing": false
    }
   }
  },
  {
   "cell_type": "code",
   "execution_count": 4,
   "outputs": [
    {
     "name": "stdout",
     "text": [
      "[ClusteredItemBasedCF.predict_all] total 6.34 seconds have spent\n",
      "\n"
     ],
     "output_type": "stream"
    },
    {
     "data": {
      "text/plain": "{'prec': 0.18812301166489925,\n 'recall': 0.18812301166489925,\n 'f1': 0.18812301166489923,\n 'rmse': 2.6836561606564517,\n 'mae': 2.3575755381541406}"
     },
     "metadata": {},
     "output_type": "execute_result",
     "execution_count": 4
    }
   ],
   "source": [
    "model.test(user_item_test)"
   ],
   "metadata": {
    "collapsed": false,
    "pycharm": {
     "name": "#%%\n",
     "is_executing": false
    }
   }
  },
  {
   "cell_type": "code",
   "execution_count": null,
   "outputs": [],
   "source": [
    "\n"
   ],
   "metadata": {
    "collapsed": false,
    "pycharm": {
     "name": "#%%\n"
    }
   }
  }
 ],
 "metadata": {
  "kernelspec": {
   "name": "pycharm-c033b6b1",
   "language": "python",
   "display_name": "PyCharm (ex2_b)"
  },
  "language_info": {
   "codemirror_mode": {
    "name": "ipython",
    "version": 2
   },
   "file_extension": ".py",
   "mimetype": "text/x-python",
   "name": "python",
   "nbconvert_exporter": "python",
   "pygments_lexer": "ipython2",
   "version": "2.7.6"
  },
  "pycharm": {
   "stem_cell": {
    "cell_type": "raw",
    "source": [],
    "metadata": {
     "collapsed": false
    }
   }
  }
 },
 "nbformat": 4,
 "nbformat_minor": 0
}