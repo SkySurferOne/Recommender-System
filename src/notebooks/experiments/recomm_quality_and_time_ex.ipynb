{
 "cells": [
  {
   "cell_type": "code",
   "execution_count": 9,
   "metadata": {
    "collapsed": true,
    "pycharm": {
     "is_executing": false
    }
   },
   "outputs": [],
   "source": [
    "from src.main.DatasetManager import DatasetManager\n",
    "from src.main.Evaluator import Evaluator\n",
    "from src.main.models.ClusteredItemBasedCF import ClusteredItemBasedCF\n",
    "from src.main.models.ClusteredUserBasedCF import ClusteredUserBasedCF\n",
    "from src.main.models.ItemBasedCF import ItemBasedCF\n",
    "from src.main.models.UserBasedCF import UserBasedCF\n",
    "from src.main.utils.plot_generators import gen_grouped_histogram_bars, measure_time"
   ]
  },
  {
   "cell_type": "code",
   "execution_count": 10,
   "outputs": [],
   "source": [
    "dirname = '/home/damian/Pulpit/Warsztat/CoML/recomm_project/data/'\n",
    "dm = DatasetManager()"
   ],
   "metadata": {
    "collapsed": false,
    "pycharm": {
     "name": "#%%\n",
     "is_executing": false
    }
   }
  },
  {
   "cell_type": "code",
   "execution_count": 11,
   "outputs": [
    {
     "name": "stdout",
     "text": [
      "User number: 943, item number: 1682\n",
      "User number: 943, item number: 1664\n"
     ],
     "output_type": "stream"
    }
   ],
   "source": [
    "ml100k_filename_ua = dirname + 'ml-100k/ua.base'\n",
    "ml100k_filename_ua_test = dirname + 'ml-100k/ua.test'\n",
    "\n",
    "train_ua = dm.load_csv(ml100k_filename_ua, realative=False)\n",
    "test_ua = dm.load_csv(ml100k_filename_ua_test, realative=False)\n",
    "\n",
    "user_item_ua = DatasetManager.transform_to_user_item_mat(train_ua, verbose=True)\n",
    "user_item_ua_test = DatasetManager.transform_to_user_item_mat(test_ua, verbose=True)"
   ],
   "metadata": {
    "collapsed": false,
    "pycharm": {
     "name": "#%%\n",
     "is_executing": false
    }
   }
  },
  {
   "cell_type": "code",
   "execution_count": 12,
   "outputs": [
    {
     "name": "stdout",
     "text": [
      "test size: 9.43 %\n",
      "User number: 943, item number: 1682\n",
      "User number: 943, item number: 1664\n"
     ],
     "output_type": "stream"
    }
   ],
   "source": [
    "# load full ml100k\n",
    "ml100k_filename_full = dirname + 'ml-100k/u.data'\n",
    "\n",
    "ml100k_data_full = dm.load_csv(ml100k_filename_full, realative=False)\n",
    "ml100k_train, ml100k_test = DatasetManager.train_test_split(ml100k_data_full, shuffle=False)\n",
    "\n",
    "ml100k_user_item = DatasetManager.transform_to_user_item_mat(ml100k_train, verbose=True)\n",
    "ml100k_user_item_test = DatasetManager.transform_to_user_item_mat(ml100k_test, verbose=True)"
   ],
   "metadata": {
    "collapsed": false,
    "pycharm": {
     "name": "#%%\n",
     "is_executing": false
    }
   }
  },
  {
   "cell_type": "code",
   "execution_count": 13,
   "outputs": [],
   "source": [
    "models = [\n",
    "    { 'model': UserBasedCF, 'name': 'UserBasedCF'},\n",
    "    { 'model': ItemBasedCF, 'name': 'ItemBasedCF'},\n",
    "    { 'model': ClusteredUserBasedCF, 'name': 'ClustUsrBasedCF'},\n",
    "    { 'model': ClusteredItemBasedCF, 'name': 'ClustItmBasedCF'}\n",
    "]\n",
    "\n",
    "plots = [\n",
    "    {'key': 'fit_time', 'name': 'Fitting time comparison', 'xlabel': 'models', 'ylabel': 't [s]'},\n",
    "    {'key': 'pred_time', 'name': 'Prediction time comparison', 'xlabel': 'models', 'ylabel': 't [s]'},\n",
    "    {'key': 'prec', 'name': 'Precision comparison', 'xlabel': 'models', 'ylabel': 'prec'},\n",
    "    {'key': 'recall', 'name': 'Recall comparison', 'xlabel': 'models', 'ylabel': 'recall'},\n",
    "    {'key': 'f1', 'name': 'F1 score comparison', 'xlabel': 'models', 'ylabel': 'f1'},\n",
    "    {'key': 'rmse', 'name': 'RMSE comparison', 'xlabel': 'models', 'ylabel': 'rmse'},\n",
    "    {'key': 'mae', 'name': 'MAE comparison', 'xlabel': 'models', 'ylabel': 'mae'}\n",
    "]\n",
    "\n",
    "repeat = 3"
   ],
   "metadata": {
    "collapsed": false,
    "pycharm": {
     "name": "#%%\n",
     "is_executing": false
    }
   }
  },
  {
   "cell_type": "code",
   "execution_count": 14,
   "outputs": [],
   "source": [
    "def get_func(user_item, user_item_test):\n",
    "    \n",
    "    def func(sink, model_desc, _):\n",
    "        model_class = model_desc['model']\n",
    "        model = model_class(verbose=True)\n",
    "        \n",
    "        # fit model \n",
    "        measure_time(lambda: model.fit(user_item), sink['fit_time'])\n",
    "        \n",
    "        # predict\n",
    "        pred = measure_time(lambda: model.predict_all(), sink['pred_time'])\n",
    "        \n",
    "        # recommend\n",
    "        recomm, _ = model._recommend_all(pred)\n",
    "        recomm = model._transform_recomm(recomm)\n",
    "    \n",
    "        # eval\n",
    "        eval = Evaluator(user_item_test).eval(recomm, pred)\n",
    "        \n",
    "        sink['prec'].append(eval['prec'])\n",
    "        sink['recall'].append(eval['recall'])\n",
    "        sink['f1'].append(eval['f1'])\n",
    "        sink['rmse'].append(eval['rmse'])\n",
    "        sink['mae'].append(eval['mae'])\n",
    "    \n",
    "    return func"
   ],
   "metadata": {
    "collapsed": false,
    "pycharm": {
     "name": "#%%\n",
     "is_executing": false
    }
   }
  },
  {
   "cell_type": "code",
   "execution_count": 15,
   "outputs": [
    {
     "name": "stdout",
     "text": [
      "======= ml100k ua\n",
      "\n",
      "\n",
      "(0) started calculation for UserBasedCF case\n",
      "[UserBasedCF.fit] total 5.26 seconds have spent\n",
      "\n"
     ],
     "output_type": "stream"
    },
    {
     "traceback": [
      "\u001b[0;31m---------------------------------------------------------------------------\u001b[0m",
      "\u001b[0;31mKeyboardInterrupt\u001b[0m                         Traceback (most recent call last)",
      "\u001b[0;32m<ipython-input-15-fba8adfd5c27>\u001b[0m in \u001b[0;36m<module>\u001b[0;34m\u001b[0m\n\u001b[1;32m      3\u001b[0m \u001b[0;34m\u001b[0m\u001b[0m\n\u001b[1;32m      4\u001b[0m gen_grouped_histogram_bars(plots, models, [''], get_func(user_item_ua, user_item_ua_test), repeat, \n\u001b[0;32m----> 5\u001b[0;31m                            show_bar_values=False, verbose=True, show_legend=False)\n\u001b[0m\u001b[1;32m      6\u001b[0m \u001b[0;34m\u001b[0m\u001b[0m\n",
      "\u001b[0;32m~/Pulpit/Warsztat/CoML/recomm_project/src/main/utils/plot_generators.py\u001b[0m in \u001b[0;36mgen_grouped_histogram_bars\u001b[0;34m(plots_desc, compared, range_val, func, repeat, save_figs, verbose, bar_width, show_bar_values, figsize, legend_loc, show_legend)\u001b[0m\n\u001b[1;32m    152\u001b[0m             \u001b[0my_val\u001b[0m \u001b[0;34m=\u001b[0m \u001b[0m_init_list\u001b[0m\u001b[0;34m(\u001b[0m\u001b[0;34m)\u001b[0m\u001b[0;34m\u001b[0m\u001b[0;34m\u001b[0m\u001b[0m\n\u001b[1;32m    153\u001b[0m             \u001b[0;32mfor\u001b[0m \u001b[0m_\u001b[0m \u001b[0;32min\u001b[0m \u001b[0mrange\u001b[0m\u001b[0;34m(\u001b[0m\u001b[0mrepeat\u001b[0m\u001b[0;34m)\u001b[0m\u001b[0;34m:\u001b[0m\u001b[0;34m\u001b[0m\u001b[0;34m\u001b[0m\u001b[0m\n\u001b[0;32m--> 154\u001b[0;31m                 \u001b[0mfunc\u001b[0m\u001b[0;34m(\u001b[0m\u001b[0my_val\u001b[0m\u001b[0;34m,\u001b[0m \u001b[0mcompared_obj\u001b[0m\u001b[0;34m,\u001b[0m \u001b[0mval\u001b[0m\u001b[0;34m)\u001b[0m\u001b[0;34m\u001b[0m\u001b[0;34m\u001b[0m\u001b[0m\n\u001b[0m\u001b[1;32m    155\u001b[0m             \u001b[0m_calc_avg\u001b[0m\u001b[0;34m(\u001b[0m\u001b[0my_val\u001b[0m\u001b[0;34m,\u001b[0m \u001b[0mdata_lists\u001b[0m\u001b[0;34m,\u001b[0m \u001b[0mj\u001b[0m\u001b[0;34m)\u001b[0m\u001b[0;34m\u001b[0m\u001b[0;34m\u001b[0m\u001b[0m\n\u001b[1;32m    156\u001b[0m \u001b[0;34m\u001b[0m\u001b[0m\n",
      "\u001b[0;32m<ipython-input-14-30f919a9db05>\u001b[0m in \u001b[0;36mfunc\u001b[0;34m(sink, model_desc, _)\u001b[0m\n\u001b[1;32m     10\u001b[0m \u001b[0;34m\u001b[0m\u001b[0m\n\u001b[1;32m     11\u001b[0m         \u001b[0;31m# predict\u001b[0m\u001b[0;34m\u001b[0m\u001b[0;34m\u001b[0m\u001b[0;34m\u001b[0m\u001b[0m\n\u001b[0;32m---> 12\u001b[0;31m         \u001b[0mpred\u001b[0m \u001b[0;34m=\u001b[0m \u001b[0mmeasure_time\u001b[0m\u001b[0;34m(\u001b[0m\u001b[0;32mlambda\u001b[0m\u001b[0;34m:\u001b[0m \u001b[0mmodel\u001b[0m\u001b[0;34m.\u001b[0m\u001b[0mpredict_all\u001b[0m\u001b[0;34m(\u001b[0m\u001b[0;34m)\u001b[0m\u001b[0;34m,\u001b[0m \u001b[0msink\u001b[0m\u001b[0;34m[\u001b[0m\u001b[0;34m'pred_time'\u001b[0m\u001b[0;34m]\u001b[0m\u001b[0;34m)\u001b[0m\u001b[0;34m\u001b[0m\u001b[0;34m\u001b[0m\u001b[0m\n\u001b[0m\u001b[1;32m     13\u001b[0m \u001b[0;34m\u001b[0m\u001b[0m\n\u001b[1;32m     14\u001b[0m         \u001b[0;31m# recommend\u001b[0m\u001b[0;34m\u001b[0m\u001b[0;34m\u001b[0m\u001b[0;34m\u001b[0m\u001b[0m\n",
      "\u001b[0;32m~/Pulpit/Warsztat/CoML/recomm_project/src/main/utils/plot_generators.py\u001b[0m in \u001b[0;36mmeasure_time\u001b[0;34m(func, sink_list)\u001b[0m\n\u001b[1;32m    163\u001b[0m \u001b[0;32mdef\u001b[0m \u001b[0mmeasure_time\u001b[0m\u001b[0;34m(\u001b[0m\u001b[0mfunc\u001b[0m\u001b[0;34m,\u001b[0m \u001b[0msink_list\u001b[0m\u001b[0;34m)\u001b[0m\u001b[0;34m:\u001b[0m\u001b[0;34m\u001b[0m\u001b[0;34m\u001b[0m\u001b[0m\n\u001b[1;32m    164\u001b[0m     \u001b[0mstart\u001b[0m \u001b[0;34m=\u001b[0m \u001b[0mtime\u001b[0m\u001b[0;34m.\u001b[0m\u001b[0mtime\u001b[0m\u001b[0;34m(\u001b[0m\u001b[0;34m)\u001b[0m\u001b[0;34m\u001b[0m\u001b[0;34m\u001b[0m\u001b[0m\n\u001b[0;32m--> 165\u001b[0;31m     \u001b[0mr\u001b[0m \u001b[0;34m=\u001b[0m \u001b[0mfunc\u001b[0m\u001b[0;34m(\u001b[0m\u001b[0;34m)\u001b[0m\u001b[0;34m\u001b[0m\u001b[0;34m\u001b[0m\u001b[0m\n\u001b[0m\u001b[1;32m    166\u001b[0m     \u001b[0mend_time\u001b[0m \u001b[0;34m=\u001b[0m \u001b[0mtime\u001b[0m\u001b[0;34m.\u001b[0m\u001b[0mtime\u001b[0m\u001b[0;34m(\u001b[0m\u001b[0;34m)\u001b[0m \u001b[0;34m-\u001b[0m \u001b[0mstart\u001b[0m\u001b[0;34m\u001b[0m\u001b[0;34m\u001b[0m\u001b[0m\n\u001b[1;32m    167\u001b[0m     \u001b[0msink_list\u001b[0m\u001b[0;34m.\u001b[0m\u001b[0mappend\u001b[0m\u001b[0;34m(\u001b[0m\u001b[0mend_time\u001b[0m\u001b[0;34m)\u001b[0m\u001b[0;34m\u001b[0m\u001b[0;34m\u001b[0m\u001b[0m\n",
      "\u001b[0;32m<ipython-input-14-30f919a9db05>\u001b[0m in \u001b[0;36m<lambda>\u001b[0;34m()\u001b[0m\n\u001b[1;32m     10\u001b[0m \u001b[0;34m\u001b[0m\u001b[0m\n\u001b[1;32m     11\u001b[0m         \u001b[0;31m# predict\u001b[0m\u001b[0;34m\u001b[0m\u001b[0;34m\u001b[0m\u001b[0;34m\u001b[0m\u001b[0m\n\u001b[0;32m---> 12\u001b[0;31m         \u001b[0mpred\u001b[0m \u001b[0;34m=\u001b[0m \u001b[0mmeasure_time\u001b[0m\u001b[0;34m(\u001b[0m\u001b[0;32mlambda\u001b[0m\u001b[0;34m:\u001b[0m \u001b[0mmodel\u001b[0m\u001b[0;34m.\u001b[0m\u001b[0mpredict_all\u001b[0m\u001b[0;34m(\u001b[0m\u001b[0;34m)\u001b[0m\u001b[0;34m,\u001b[0m \u001b[0msink\u001b[0m\u001b[0;34m[\u001b[0m\u001b[0;34m'pred_time'\u001b[0m\u001b[0;34m]\u001b[0m\u001b[0;34m)\u001b[0m\u001b[0;34m\u001b[0m\u001b[0;34m\u001b[0m\u001b[0m\n\u001b[0m\u001b[1;32m     13\u001b[0m \u001b[0;34m\u001b[0m\u001b[0m\n\u001b[1;32m     14\u001b[0m         \u001b[0;31m# recommend\u001b[0m\u001b[0;34m\u001b[0m\u001b[0;34m\u001b[0m\u001b[0;34m\u001b[0m\u001b[0m\n",
      "\u001b[0;32m~/Pulpit/Warsztat/CoML/recomm_project/src/main/utils/Timed.py\u001b[0m in \u001b[0;36mwrapped\u001b[0;34m(self, *args)\u001b[0m\n\u001b[1;32m     12\u001b[0m             \u001b[0;32mif\u001b[0m \u001b[0mhasattr\u001b[0m\u001b[0;34m(\u001b[0m\u001b[0mself\u001b[0m\u001b[0;34m,\u001b[0m \u001b[0;34m'verbose'\u001b[0m\u001b[0;34m)\u001b[0m \u001b[0;32mand\u001b[0m \u001b[0mself\u001b[0m\u001b[0;34m.\u001b[0m\u001b[0mverbose\u001b[0m\u001b[0;34m:\u001b[0m\u001b[0;34m\u001b[0m\u001b[0;34m\u001b[0m\u001b[0m\n\u001b[1;32m     13\u001b[0m                 \u001b[0mtime\u001b[0m \u001b[0;34m=\u001b[0m \u001b[0mLogTime\u001b[0m\u001b[0;34m(\u001b[0m\u001b[0;34m'{}.{}'\u001b[0m\u001b[0;34m.\u001b[0m\u001b[0mformat\u001b[0m\u001b[0;34m(\u001b[0m\u001b[0mcaller\u001b[0m\u001b[0;34m,\u001b[0m \u001b[0mfunc\u001b[0m\u001b[0;34m.\u001b[0m\u001b[0m__name__\u001b[0m\u001b[0;34m)\u001b[0m\u001b[0;34m)\u001b[0m\u001b[0;34m\u001b[0m\u001b[0;34m\u001b[0m\u001b[0m\n\u001b[0;32m---> 14\u001b[0;31m                 \u001b[0mres\u001b[0m \u001b[0;34m=\u001b[0m \u001b[0mfunc\u001b[0m\u001b[0;34m(\u001b[0m\u001b[0mself\u001b[0m\u001b[0;34m,\u001b[0m \u001b[0;34m*\u001b[0m\u001b[0margs\u001b[0m\u001b[0;34m)\u001b[0m\u001b[0;34m\u001b[0m\u001b[0;34m\u001b[0m\u001b[0m\n\u001b[0m\u001b[1;32m     15\u001b[0m                 \u001b[0mtime\u001b[0m\u001b[0;34m.\u001b[0m\u001b[0mfinish\u001b[0m\u001b[0;34m(\u001b[0m\u001b[0;34m)\u001b[0m\u001b[0;34m\u001b[0m\u001b[0;34m\u001b[0m\u001b[0m\n\u001b[1;32m     16\u001b[0m                 \u001b[0;32mreturn\u001b[0m \u001b[0mres\u001b[0m\u001b[0;34m\u001b[0m\u001b[0;34m\u001b[0m\u001b[0m\n",
      "\u001b[0;32m~/Pulpit/Warsztat/CoML/recomm_project/src/main/models/UserBasedCF.py\u001b[0m in \u001b[0;36mpredict_all\u001b[0;34m(self)\u001b[0m\n\u001b[1;32m     44\u001b[0m                 [np.abs(self.similarity).sum(axis=1)]).T\n\u001b[1;32m     45\u001b[0m         \u001b[0;32melse\u001b[0m\u001b[0;34m:\u001b[0m\u001b[0;34m\u001b[0m\u001b[0;34m\u001b[0m\u001b[0m\n\u001b[0;32m---> 46\u001b[0;31m             \u001b[0;32mreturn\u001b[0m \u001b[0mmean_user_rating\u001b[0m \u001b[0;34m+\u001b[0m \u001b[0mself\u001b[0m\u001b[0;34m.\u001b[0m\u001b[0m_predict_ksimilar_users\u001b[0m\u001b[0;34m(\u001b[0m\u001b[0mratings_diff\u001b[0m\u001b[0;34m)\u001b[0m\u001b[0;34m\u001b[0m\u001b[0;34m\u001b[0m\u001b[0m\n\u001b[0m\u001b[1;32m     47\u001b[0m \u001b[0;34m\u001b[0m\u001b[0m\n\u001b[1;32m     48\u001b[0m     \u001b[0;32mdef\u001b[0m \u001b[0m_predict_ksimilar_users\u001b[0m\u001b[0;34m(\u001b[0m\u001b[0mself\u001b[0m\u001b[0;34m,\u001b[0m \u001b[0mratings_diff\u001b[0m\u001b[0;34m)\u001b[0m\u001b[0;34m:\u001b[0m\u001b[0;34m\u001b[0m\u001b[0;34m\u001b[0m\u001b[0m\n",
      "\u001b[0;32m~/Pulpit/Warsztat/CoML/recomm_project/src/main/models/UserBasedCF.py\u001b[0m in \u001b[0;36m_predict_ksimilar_users\u001b[0;34m(self, ratings_diff)\u001b[0m\n\u001b[1;32m     57\u001b[0m                 \u001b[0mk_mat_1d\u001b[0m\u001b[0;34m[\u001b[0m\u001b[0muser\u001b[0m\u001b[0;34m]\u001b[0m \u001b[0;34m+=\u001b[0m \u001b[0mabs\u001b[0m\u001b[0;34m(\u001b[0m\u001b[0msim_factor\u001b[0m\u001b[0;34m)\u001b[0m\u001b[0;34m\u001b[0m\u001b[0;34m\u001b[0m\u001b[0m\n\u001b[1;32m     58\u001b[0m                 \u001b[0;32mfor\u001b[0m \u001b[0mi\u001b[0m \u001b[0;32min\u001b[0m \u001b[0mrange\u001b[0m\u001b[0;34m(\u001b[0m\u001b[0mitem_num\u001b[0m\u001b[0;34m)\u001b[0m\u001b[0;34m:\u001b[0m\u001b[0;34m\u001b[0m\u001b[0;34m\u001b[0m\u001b[0m\n\u001b[0;32m---> 59\u001b[0;31m                     \u001b[0;32mif\u001b[0m \u001b[0mself\u001b[0m\u001b[0;34m.\u001b[0m\u001b[0mtrain_set\u001b[0m\u001b[0;34m[\u001b[0m\u001b[0muser\u001b[0m\u001b[0;34m]\u001b[0m\u001b[0;34m[\u001b[0m\u001b[0mi\u001b[0m\u001b[0;34m]\u001b[0m \u001b[0;34m>\u001b[0m \u001b[0;36m0\u001b[0m\u001b[0;34m:\u001b[0m\u001b[0;34m\u001b[0m\u001b[0;34m\u001b[0m\u001b[0m\n\u001b[0m\u001b[1;32m     60\u001b[0m                         \u001b[0;32mcontinue\u001b[0m\u001b[0;34m\u001b[0m\u001b[0;34m\u001b[0m\u001b[0m\n\u001b[1;32m     61\u001b[0m \u001b[0;34m\u001b[0m\u001b[0m\n",
      "\u001b[0;31mKeyboardInterrupt\u001b[0m: "
     ],
     "ename": "KeyboardInterrupt",
     "evalue": "",
     "output_type": "error"
    }
   ],
   "source": [
    "print('======= ml100k ua\\n\\n')\n",
    "\n",
    "gen_grouped_histogram_bars(plots, models, [''], get_func(user_item_ua, user_item_ua_test), repeat, \n",
    "                           show_bar_values=False, verbose=True, show_legend=False)"
   ],
   "metadata": {
    "collapsed": false,
    "pycharm": {
     "name": "#%%\n",
     "is_executing": false
    }
   }
  },
  {
   "cell_type": "code",
   "execution_count": null,
   "outputs": [],
   "source": [
    "print('======= ml100k\\n\\n')\n",
    "\n",
    "gen_grouped_histogram_bars(plots, models, [''], get_func(ml100k_user_item, ml100k_user_item_test), repeat, \n",
    "                           show_bar_values=False, verbose=True, show_legend=False)\n"
   ],
   "metadata": {
    "collapsed": false,
    "pycharm": {
     "name": "#%%\n",
     "is_executing": false
    }
   }
  }
 ],
 "metadata": {
  "kernelspec": {
   "name": "pycharm-c033b6b1",
   "language": "python",
   "display_name": "PyCharm (ex2_b)"
  },
  "language_info": {
   "codemirror_mode": {
    "name": "ipython",
    "version": 2
   },
   "file_extension": ".py",
   "mimetype": "text/x-python",
   "name": "python",
   "nbconvert_exporter": "python",
   "pygments_lexer": "ipython2",
   "version": "2.7.6"
  },
  "pycharm": {
   "stem_cell": {
    "cell_type": "raw",
    "source": [],
    "metadata": {
     "collapsed": false
    }
   }
  }
 },
 "nbformat": 4,
 "nbformat_minor": 0
}