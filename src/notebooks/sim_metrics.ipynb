{
 "cells": [
  {
   "cell_type": "code",
   "execution_count": 26,
   "metadata": {
    "collapsed": true,
    "pycharm": {
     "is_executing": false
    }
   },
   "outputs": [],
   "source": [
    "import csv\n",
    "import os\n",
    "\n",
    "import numpy as np\n",
    "from scipy.stats import pearsonr\n",
    "from sklearn.metrics.pairwise import pairwise_distances"
   ]
  },
  {
   "cell_type": "code",
   "execution_count": 21,
   "outputs": [],
   "source": [
    "def load_csv(filename, delimeter='\\t', encoding='UTF-8'):\n",
    "    \"\"\"\n",
    "    :param filename: path inside data folder\n",
    "    :return:\n",
    "    \"\"\"\n",
    "    dirname = '/home/damian/Pulpit/Warsztat/CoML/recomm_project/customized/notebooks'\n",
    "    filename = os.path.join(dirname, '../../data/{}'.format(filename))\n",
    "    data = []\n",
    "\n",
    "    with open(filename, newline='\\n', encoding=encoding) as csvfile:\n",
    "        reader = csv.reader(csvfile, delimiter=delimeter)\n",
    "\n",
    "        for row in reader:\n",
    "            data.append(row)\n",
    "\n",
    "    return data\n",
    "\n",
    "\n",
    "def cast_to_int(data):\n",
    "    \"\"\"\n",
    "    Cast all elements to int\n",
    "    :param data:\n",
    "    :return:\n",
    "    \"\"\"\n",
    "    for i in range(len(data)):\n",
    "        for j in range(len(data[i])):\n",
    "            data[i][j] = int(data[i][j])\n",
    "\n",
    "    return data\n",
    "\n",
    "\n",
    "def transform_to_user_item_mat(data, user_idx=0, item_idx=1, rating_idx=2, verbose=False):\n",
    "    \"\"\"\n",
    "    Transform to user - item table with ratings\n",
    "    :param verbose:\n",
    "    :param rating_idx:\n",
    "    :param item_idx:\n",
    "    :param user_idx:\n",
    "    :param data:\n",
    "    :return: data_item matrix\n",
    "    \"\"\"\n",
    "    user_num = np.sort(data[:, user_idx])[-1] + 1\n",
    "    item_num = np.sort(data[:, item_idx])[-1] + 1\n",
    "    if verbose:\n",
    "        print('User number: {}, item number: {}'.format(user_num, item_num))\n",
    "    data_item = np.zeros(shape=(user_num, item_num))\n",
    "\n",
    "    for row in data:\n",
    "        user_id = row[user_idx]\n",
    "        item_id = row[item_idx]\n",
    "        rating = row[rating_idx]\n",
    "        data_item[user_id][item_id] = rating\n",
    "\n",
    "    return data_item\n",
    "\n",
    "\n",
    "def preprocess(data):\n",
    "    data = cast_to_int(data)\n",
    "    data = np.array(data)\n",
    "    data = data - np.array([1, 1, 0, 0])\n",
    "\n",
    "    return transform_to_user_item_mat(data, verbose=True)"
   ],
   "metadata": {
    "collapsed": false,
    "pycharm": {
     "name": "#%%\n",
     "is_executing": false
    }
   }
  },
  {
   "cell_type": "code",
   "execution_count": 29,
   "outputs": [
    {
     "name": "stdout",
     "text": [
      "User number: 943, item number: 1682\n",
      "[[5. 3. 4. ... 0. 0. 0.]\n",
      " [4. 0. 0. ... 0. 0. 0.]\n",
      " [0. 0. 0. ... 0. 0. 0.]\n",
      " ...\n",
      " [0. 0. 0. ... 0. 0. 0.]\n",
      " [0. 0. 0. ... 0. 0. 0.]\n",
      " [4. 0. 0. ... 0. 0. 0.]]\n"
     ],
     "output_type": "stream"
    }
   ],
   "source": [
    "ml100k_filename = 'ml-100k/ua.base'\n",
    "user_item = preprocess(load_csv(ml100k_filename))\n",
    "\n",
    "print(user_item[:10])"
   ],
   "metadata": {
    "collapsed": false,
    "pycharm": {
     "name": "#%%\n",
     "is_executing": false
    }
   }
  },
  {
   "cell_type": "code",
   "execution_count": 32,
   "outputs": [
    {
     "name": "stdout",
     "text": [
      "(943, 943)\n",
      "[[0.         0.85324924 0.9493235  ... 0.96129522 0.8272823  0.61960392]\n",
      " [0.85324924 0.         0.87419215 ... 0.82629308 0.82681535 0.91905667]\n",
      " [0.9493235  0.87419215 0.         ... 0.97201154 0.87518372 0.97030738]\n",
      " ...\n",
      " [0.70450641 0.91392067 0.92654776 ... 0.94089532 0.84199768 0.74139694]\n",
      " [0.91753596 0.90405936 1.         ... 0.92209476 0.95380009 0.89226146]\n",
      " [0.63803389 0.87729665 0.94653205 ... 0.94291632 0.7917169  0.78725564]]\n"
     ],
     "output_type": "stream"
    }
   ],
   "source": [
    "user_similarity = pairwise_distances(user_item, metric='cosine')\n",
    "print(user_similarity.shape) \n",
    "print(user_similarity[:10])"
   ],
   "metadata": {
    "collapsed": false,
    "pycharm": {
     "name": "#%%\n",
     "is_executing": false
    }
   }
  },
  {
   "cell_type": "code",
   "execution_count": 33,
   "outputs": [
    {
     "name": "stdout",
     "text": [
      "(0.09131021547798493, 0.00017691643724502694)\n"
     ],
     "output_type": "stream"
    }
   ],
   "source": [
    "p = pearsonr(user_item[0], user_item[1])\n",
    "print(p)"
   ],
   "metadata": {
    "collapsed": false,
    "pycharm": {
     "name": "#%%\n",
     "is_executing": false
    }
   }
  },
  {
   "cell_type": "code",
   "execution_count": 35,
   "outputs": [
    {
     "name": "stdout",
     "text": [
      "(943, 943)\n",
      "[[ 1.          0.09131022 -0.00581008 ...  0.00910694  0.10831478\n",
      "   0.30758436]\n",
      " [ 0.09131022  1.          0.10288466 ...  0.1627796   0.1442557\n",
      "   0.03401889]\n",
      " [-0.00581008  0.10288466  1.         ...  0.01597579  0.09786267\n",
      "  -0.01432321]\n",
      " ...\n",
      " [ 0.25635099  0.0600081   0.05011905 ...  0.04659944  0.12976455\n",
      "   0.22401851]\n",
      " [ 0.05622861  0.0835279  -0.01249907 ...  0.07172473  0.03059939\n",
      "   0.08822838]\n",
      " [ 0.27661141  0.073382    0.00586339 ...  0.03297069  0.15581961\n",
      "   0.13343531]]\n"
     ],
     "output_type": "stream"
    }
   ],
   "source": [
    "def pearson(a, b):\n",
    "    return pearsonr(a, b)[0]\n",
    "\n",
    "user_similarity = pairwise_distances(user_item, metric=pearson)\n",
    "print(user_similarity.shape) \n",
    "print(user_similarity[:10])\n"
   ],
   "metadata": {
    "collapsed": false,
    "pycharm": {
     "name": "#%%\n",
     "is_executing": false
    }
   }
  },
  {
   "cell_type": "code",
   "execution_count": 36,
   "outputs": [
    {
     "name": "stdout",
     "text": [
      "(943, 943)\n",
      "[[0.         0.90868978 1.00581008 ... 0.99089306 0.89168522 0.69241564]\n",
      " [0.90868978 0.         0.89711534 ... 0.8372204  0.8557443  0.96598111]\n",
      " [1.00581008 0.89711534 0.         ... 0.98402421 0.90213733 1.01432321]\n",
      " ...\n",
      " [0.74364901 0.9399919  0.94988095 ... 0.95340056 0.87023545 0.77598149]\n",
      " [0.94377139 0.9164721  1.01249907 ... 0.92827527 0.96940061 0.91177162]\n",
      " [0.72338859 0.926618   0.99413661 ... 0.96702931 0.84418039 0.86656469]]\n"
     ],
     "output_type": "stream"
    }
   ],
   "source": [
    "user_similarity = pairwise_distances(user_item, metric=\"correlation\")\n",
    "print(user_similarity.shape) \n",
    "print(user_similarity[:10])"
   ],
   "metadata": {
    "collapsed": false,
    "pycharm": {
     "name": "#%%\n",
     "is_executing": false
    }
   }
  },
  {
   "cell_type": "code",
   "execution_count": null,
   "outputs": [],
   "source": [
    "\n"
   ],
   "metadata": {
    "collapsed": false,
    "pycharm": {
     "name": "#%%\n"
    }
   }
  }
 ],
 "metadata": {
  "kernelspec": {
   "name": "pycharm-c033b6b1",
   "language": "python",
   "display_name": "PyCharm (ex2_b)"
  },
  "language_info": {
   "codemirror_mode": {
    "name": "ipython",
    "version": 2
   },
   "file_extension": ".py",
   "mimetype": "text/x-python",
   "name": "python",
   "nbconvert_exporter": "python",
   "pygments_lexer": "ipython2",
   "version": "2.7.6"
  },
  "pycharm": {
   "stem_cell": {
    "cell_type": "raw",
    "source": [],
    "metadata": {
     "collapsed": false
    }
   }
  }
 },
 "nbformat": 4,
 "nbformat_minor": 0
}