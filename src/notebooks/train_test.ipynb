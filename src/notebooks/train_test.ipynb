{
 "cells": [
  {
   "cell_type": "code",
   "execution_count": 38,
   "metadata": {
    "collapsed": true,
    "pycharm": {
     "is_executing": false
    }
   },
   "outputs": [],
   "source": [
    "import csv\n",
    "import os\n",
    "\n",
    "import numpy as np\n",
    "\n",
    "from src.main.DatasetManager import DatasetManager"
   ]
  },
  {
   "cell_type": "code",
   "execution_count": 33,
   "outputs": [],
   "source": [
    "def load_csv(filename, delimeter='\\t', encoding='UTF-8'):\n",
    "    \"\"\"\n",
    "    :param filename: path inside data folder\n",
    "    :return:\n",
    "    \"\"\"\n",
    "    dirname = '/home/damian/Pulpit/Warsztat/CoML/recomm_project/src/notebooks'\n",
    "    filename = os.path.join(dirname, '../../data/{}'.format(filename))\n",
    "    data = []\n",
    "\n",
    "    with open(filename, newline='\\n', encoding=encoding) as csvfile:\n",
    "        reader = csv.reader(csvfile, delimiter=delimeter)\n",
    "\n",
    "        for row in reader:\n",
    "            data.append(row)\n",
    "\n",
    "    return data\n",
    "\n",
    "def preprocess(data):\n",
    "    for i in range(len(data)):\n",
    "        for j in range(len(data[i])):\n",
    "            data[i][j] = int(data[i][j])\n",
    "\n",
    "    data = np.array(data)\n",
    "    data = data - np.array([1, 1, 0, 0])\n",
    "    \n",
    "    return data\n",
    "\n",
    "def get_user_item_num(data, user_idx=0, item_idx=1):\n",
    "    user_num = np.sort(data[:, user_idx])[-1] + 1\n",
    "    item_num = np.sort(data[:, item_idx])[-1] + 1\n",
    "    \n",
    "    return user_num, item_num\n",
    "    \n",
    "\n",
    "def get_avg_ratings(data, user_num, user_idx=0):\n",
    "    users_ratings = []\n",
    "    \n",
    "    for i in range(user_num):\n",
    "        users_ratings.append(len(data[data[:, user_idx] == i]))\n",
    "    \n",
    "    users_ratings = np.array(users_ratings)\n",
    "    avg, std = np.mean(users_ratings), np.std(users_ratings)\n",
    "    min, max = np.min(users_ratings), np.max(users_ratings)\n",
    "    \n",
    "    return avg, std, min, max\n",
    "        "
   ],
   "metadata": {
    "collapsed": false,
    "pycharm": {
     "name": "#%%\n",
     "is_executing": false
    }
   }
  },
  {
   "cell_type": "code",
   "execution_count": 34,
   "outputs": [],
   "source": [
    "ml100k_filename = 'ml-100k/u.data'\n",
    "train_filename = 'ml-100k/ua.base'\n",
    "test_filename = 'ml-100k/ua.test'\n",
    "\n",
    "ml100k = load_csv(ml100k_filename)\n",
    "train = load_csv(train_filename)\n",
    "test = load_csv(test_filename)"
   ],
   "metadata": {
    "collapsed": false,
    "pycharm": {
     "name": "#%%\n",
     "is_executing": false
    }
   }
  },
  {
   "cell_type": "code",
   "execution_count": 35,
   "outputs": [
    {
     "name": "stdout",
     "text": [
      "test size: 9.43 %\n"
     ],
     "output_type": "stream"
    }
   ],
   "source": [
    "ml100k = preprocess(ml100k)\n",
    "ml100k_train, ml100k_test = DatasetManager.train_test_split(ml100k, shuffle=False)\n",
    "ml100k_train, ml100k_test = np.array(ml100k_train), np.array(ml100k_test)\n",
    "train = preprocess(train)\n",
    "test = preprocess(test)"
   ],
   "metadata": {
    "collapsed": false,
    "pycharm": {
     "name": "#%%\n",
     "is_executing": false
    }
   }
  },
  {
   "cell_type": "code",
   "execution_count": 36,
   "outputs": [],
   "source": [
    "def print_stats(data, name):\n",
    "    print('==== Stats for {} data'.format(name))\n",
    "    print('total number of ratings: {}'.format(len(data)))\n",
    "    user_num, item_num = get_user_item_num(data)\n",
    "    print('user = {}, item = {}'.format(user_num, item_num))\n",
    "    avg, std, min, max = get_avg_ratings(data, user_num)\n",
    "    print('avg number of user ratings: {}, std: {}, min: {}, max: {}'.format(avg, std, min, max))\n",
    "    print('sparisty: {}'.format(len(data) / (user_num * item_num)))"
   ],
   "metadata": {
    "collapsed": false,
    "pycharm": {
     "name": "#%%\n",
     "is_executing": false
    }
   }
  },
  {
   "cell_type": "code",
   "execution_count": 37,
   "outputs": [
    {
     "name": "stdout",
     "text": [
      "==== Stats for ml100k data\n",
      "total number of ratings: 100000\n",
      "user = 943, item = 1682\n",
      "avg number of user ratings: 106.04453870625663, std: 100.87821227051644, min: 20, max: 737\n",
      "sparisty: 0.06304669364224531\n",
      "==== Stats for ml100k train data\n",
      "total number of ratings: 90570\n",
      "user = 943, item = 1682\n",
      "avg number of user ratings: 96.04453870625663, std: 100.87821227051644, min: 10, max: 727\n",
      "sparisty: 0.057101390431781585\n",
      "==== Stats for ml100k test data\n",
      "total number of ratings: 9430\n",
      "user = 943, item = 1664\n",
      "avg number of user ratings: 10.0, std: 0.0, min: 10, max: 10\n",
      "sparisty: 0.006009615384615385\n",
      "==== Stats for ua train data\n",
      "total number of ratings: 90570\n",
      "user = 943, item = 1682\n",
      "avg number of user ratings: 96.04453870625663, std: 100.87821227051644, min: 10, max: 727\n",
      "sparisty: 0.057101390431781585\n",
      "==== Stats for ua test data\n",
      "total number of ratings: 9430\n",
      "user = 943, item = 1664\n",
      "avg number of user ratings: 10.0, std: 0.0, min: 10, max: 10\n",
      "sparisty: 0.006009615384615385\n"
     ],
     "output_type": "stream"
    }
   ],
   "source": [
    "print_stats(ml100k, 'ml100k')\n",
    "print_stats(ml100k_train, 'ml100k train')\n",
    "print_stats(ml100k_test, 'ml100k test')\n",
    "print_stats(train, 'ua train')\n",
    "print_stats(test, 'ua test')\n",
    "\n",
    "\n",
    "\n"
   ],
   "metadata": {
    "collapsed": false,
    "pycharm": {
     "name": "#%%\n",
     "is_executing": false
    }
   }
  }
 ],
 "metadata": {
  "kernelspec": {
   "name": "pycharm-c033b6b1",
   "language": "python",
   "display_name": "PyCharm (ex2_b)"
  },
  "language_info": {
   "codemirror_mode": {
    "name": "ipython",
    "version": 2
   },
   "file_extension": ".py",
   "mimetype": "text/x-python",
   "name": "python",
   "nbconvert_exporter": "python",
   "pygments_lexer": "ipython2",
   "version": "2.7.6"
  },
  "pycharm": {
   "stem_cell": {
    "cell_type": "raw",
    "source": [],
    "metadata": {
     "collapsed": false
    }
   }
  }
 },
 "nbformat": 4,
 "nbformat_minor": 0
}